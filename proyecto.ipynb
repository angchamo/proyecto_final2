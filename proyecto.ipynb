{
 "cells": [
  {
   "attachments": {},
   "cell_type": "markdown",
   "metadata": {},
   "source": [
    "# Proyecto final \n",
    "## Ciencea de datos en python\n",
    "### Angel Andres Chamo Molina\n",
    "\n",
    "# Scope:  Airbnb Prices in European Cities\n",
    "\n",
    "Airbnb se ha convertido en una alternativa cada vez más popular a las estancias en hoteles tradicionales en muchas ciudades de todo el mundo. Con su interfaz fácil de usar y una amplia selección de listados, los viajeros pueden encontrar fácilmente alojamientos únicos y asequibles para sus viajes. Sin embargo, los precios de los alquileres de Airbnb pueden variar significativamente según la ubicación y la temporada. Esto es especialmente cierto en las ciudades europeas, donde la demanda de alojamientos puede fluctuar mucho según eventos, festivales y temporadas turísticas. En este contexto, comprender las tendencias de precios de los listados de Airbnb en las ciudades europeas puede ser útil tanto para los viajeros como para los anfitriones.\n",
    "\n",
    "La base de datos que se utilizo para este estudio y analisis fue de Kaggle. Pueden encontrar los datos en el siguiente link. https://www.kaggle.com/datasets/thedevastator/airbnb-prices-in-european-cities?resource=download\n",
    "\n",
    "las principales preguntas a contestar en este proyecto son las siguientes: \n",
    "1)  ¿Por qué Airbnb se ha convertido en una alternativa cada vez más popular a los hoteles tradicionales?\n",
    "2) ¿Qué ventajas ofrece Airbnb a los viajeros en comparación con los hoteles tradicionales?\n",
    "3) ¿Por qué los precios de los alquileres de Airbnb pueden variar significativamente según la ubicación y la temporada?\n",
    "4) ¿Cómo pueden los viajeros y los anfitriones beneficiarse de la comprensión de las tendencias de precios de los listados de Airbnb en las ciudades europeas?\n",
    "5) ¿Qué tipos de eventos, festivales y temporadas turísticas pueden afectar la demanda de alojamientos de Airbnb en las ciudades europeas?"
   ]
  },
  {
   "cell_type": "code",
   "execution_count": 137,
   "metadata": {},
   "outputs": [],
   "source": [
    "# librerias necesarias para realizar el analisis \n",
    "import pandas as pd \n",
    "import numpy as np\n",
    "import matplotlib.pyplot as plt\n",
    "import seaborn as sns\n",
    "import os, glob"
   ]
  },
  {
   "attachments": {},
   "cell_type": "markdown",
   "metadata": {},
   "source": [
    "# Exploracion de datos \n",
    "\n",
    "Los datos que nos da Kaggle estan por cuidad (10 cuidades de Europa) y tipo de día es decir, weekdays o weekends. Por lo tanto en  analisis  se realizara por cuidad,  a continuacion mostramos como estan estructurados los datos. Como primer paso realizaremos la importacion de los datos a python.\n",
    "\n",
    "## concatenacion de datos"
   ]
  },
  {
   "cell_type": "code",
   "execution_count": 138,
   "metadata": {},
   "outputs": [],
   "source": [
    "# importamos los datos \n",
    "# amsterdam\n",
    "ams_wd = pd.read_csv('datos/amsterdam_weekdays.csv')\n",
    "ams_we = pd.read_csv('datos/amsterdam_weekends.csv')\n",
    "# athenas \n",
    "ath_wd = pd.read_csv('datos/athens_weekdays.csv')\n",
    "ath_we = pd.read_csv('datos/athens_weekends.csv')\n",
    "# barcelona\n",
    "bar_wd = pd.read_csv('datos/barcelona_weekdays.csv')\n",
    "bar_we = pd.read_csv('datos/barcelona_weekends.csv')\n",
    "# berlin\n",
    "ber_wd = pd.read_csv('datos/berlin_weekdays.csv')\n",
    "ber_we = pd.read_csv('datos/berlin_weekends.csv')\n",
    "# budapest\n",
    "bud_wd = pd.read_csv('datos/budapest_weekdays.csv')\n",
    "bud_we = pd.read_csv('datos/budapest_weekends.csv')\n",
    "# lisbon\n",
    "lis_wd = pd.read_csv('datos/lisbon_weekdays.csv')\n",
    "lis_we = pd.read_csv('datos/lisbon_weekends.csv')\n",
    "# london\n",
    "lon_wd = pd.read_csv('datos/london_weekdays.csv')\n",
    "lon_we = pd.read_csv('datos/london_weekends.csv')\n",
    "# paris\n",
    "par_wd = pd.read_csv('datos/paris_weekdays.csv')\n",
    "par_we = pd.read_csv('datos/paris_weekends.csv')\n",
    "# rome\n",
    "rom_wd = pd.read_csv('datos/rome_weekdays.csv')\n",
    "rom_we = pd.read_csv('datos/rome_weekends.csv')\n",
    "# vienna\n",
    "vie_wd = pd.read_csv('datos/vienna_weekdays.csv')\n",
    "vie_we = pd.read_csv('datos/vienna_weekends.csv')"
   ]
  },
  {
   "cell_type": "code",
   "execution_count": 65,
   "metadata": {},
   "outputs": [],
   "source": [
    "# agregamos a los datafremes  una columna con  el  nombre  del data frame para  identificarlos \n",
    "# amsterdam\n",
    "ams_wd['day'] = 'week_day'\n",
    "ams_we['day'] = 'week_end'\n",
    "ams = pd.concat([ams_wd\n",
    "                ,ams_we], ignore_index = True)\n",
    "ams['country'] = 'amsterdam' \n",
    "# athenas\n",
    "ath_wd['day'] = 'week_day'\n",
    "ath_we['day'] = 'week_end'\n",
    "ath = pd.concat([ath_wd\n",
    "                ,ath_we], ignore_index = True)\n",
    "ath['country'] = 'athenas' \n",
    "# barcelona\n",
    "bar_wd['day'] = 'week_day'\n",
    "bar_we['day'] = 'week_end'\n",
    "bar = pd.concat([bar_wd\n",
    "                ,bar_we], ignore_index = True)\n",
    "bar['country'] = 'barcelona' \n",
    "# berlin\n",
    "ber_wd['day'] = 'week_day'\n",
    "ber_we['day'] = 'week_end'\n",
    "ber = pd.concat([ber_wd\n",
    "                ,ber_we], ignore_index = True)\n",
    "ber['country'] = 'berlin'\n",
    "# budapest\n",
    "bud_wd['day'] = 'week_day'\n",
    "bud_we['day'] = 'week_end'\n",
    "bud = pd.concat([bud_wd\n",
    "                ,bud_we], ignore_index = True)\n",
    "bud['country'] = 'budapest' \n",
    "# lisbon\n",
    "lis_wd['day'] = 'week_day'\n",
    "lis_we['day'] = 'week_end'\n",
    "lis = pd.concat([lis_wd\n",
    "                ,lis_we], ignore_index = True)\n",
    "lis['country'] = 'lisbon' \n",
    "# london\n",
    "lon_wd['day'] = 'week_day'\n",
    "lon_we['day'] = 'week_end'\n",
    "lon = pd.concat([lon_wd\n",
    "                ,lon_we], ignore_index = True)\n",
    "lon['country'] = 'london' \n",
    "# paris\n",
    "par_wd['day'] = 'week_day'\n",
    "par_we['day'] = 'week_end'\n",
    "par = pd.concat([par_wd\n",
    "                ,par_we], ignore_index = True)\n",
    "par['country'] = 'paris' \n",
    "# rome\n",
    "rom_wd['day'] = 'week_day'\n",
    "rom_we['day'] = 'week_end'\n",
    "rom = pd.concat([rom_wd\n",
    "                ,rom_we], ignore_index = True)\n",
    "rom['country'] = 'rome' \n",
    "# vienna\n",
    "vie_wd['day'] = 'week_day'\n",
    "vie_we['day'] = 'week_end'\n",
    "vie = pd.concat([vie_wd\n",
    "                ,vie_we], ignore_index = True)\n",
    "vie['country'] = 'vienna'"
   ]
  },
  {
   "cell_type": "code",
   "execution_count": 139,
   "metadata": {},
   "outputs": [
    {
     "data": {
      "text/html": [
       "<div>\n",
       "<style scoped>\n",
       "    .dataframe tbody tr th:only-of-type {\n",
       "        vertical-align: middle;\n",
       "    }\n",
       "\n",
       "    .dataframe tbody tr th {\n",
       "        vertical-align: top;\n",
       "    }\n",
       "\n",
       "    .dataframe thead th {\n",
       "        text-align: right;\n",
       "    }\n",
       "</style>\n",
       "<table border=\"1\" class=\"dataframe\">\n",
       "  <thead>\n",
       "    <tr style=\"text-align: right;\">\n",
       "      <th></th>\n",
       "      <th>Unnamed: 0</th>\n",
       "      <th>realSum</th>\n",
       "      <th>room_type</th>\n",
       "      <th>room_shared</th>\n",
       "      <th>room_private</th>\n",
       "      <th>person_capacity</th>\n",
       "      <th>host_is_superhost</th>\n",
       "      <th>multi</th>\n",
       "      <th>biz</th>\n",
       "      <th>cleanliness_rating</th>\n",
       "      <th>...</th>\n",
       "      <th>dist</th>\n",
       "      <th>metro_dist</th>\n",
       "      <th>attr_index</th>\n",
       "      <th>attr_index_norm</th>\n",
       "      <th>rest_index</th>\n",
       "      <th>rest_index_norm</th>\n",
       "      <th>lng</th>\n",
       "      <th>lat</th>\n",
       "      <th>day</th>\n",
       "      <th>country</th>\n",
       "    </tr>\n",
       "  </thead>\n",
       "  <tbody>\n",
       "    <tr>\n",
       "      <th>0</th>\n",
       "      <td>0</td>\n",
       "      <td>194.033698</td>\n",
       "      <td>Private room</td>\n",
       "      <td>False</td>\n",
       "      <td>True</td>\n",
       "      <td>2.0</td>\n",
       "      <td>False</td>\n",
       "      <td>1</td>\n",
       "      <td>0</td>\n",
       "      <td>10.0</td>\n",
       "      <td>...</td>\n",
       "      <td>5.022964</td>\n",
       "      <td>2.539380</td>\n",
       "      <td>78.690379</td>\n",
       "      <td>4.166708</td>\n",
       "      <td>98.253896</td>\n",
       "      <td>6.846473</td>\n",
       "      <td>4.90569</td>\n",
       "      <td>52.41772</td>\n",
       "      <td>week_day</td>\n",
       "      <td>amsterdam</td>\n",
       "    </tr>\n",
       "    <tr>\n",
       "      <th>1</th>\n",
       "      <td>1</td>\n",
       "      <td>344.245776</td>\n",
       "      <td>Private room</td>\n",
       "      <td>False</td>\n",
       "      <td>True</td>\n",
       "      <td>4.0</td>\n",
       "      <td>False</td>\n",
       "      <td>0</td>\n",
       "      <td>0</td>\n",
       "      <td>8.0</td>\n",
       "      <td>...</td>\n",
       "      <td>0.488389</td>\n",
       "      <td>0.239404</td>\n",
       "      <td>631.176378</td>\n",
       "      <td>33.421209</td>\n",
       "      <td>837.280757</td>\n",
       "      <td>58.342928</td>\n",
       "      <td>4.90005</td>\n",
       "      <td>52.37432</td>\n",
       "      <td>week_day</td>\n",
       "      <td>amsterdam</td>\n",
       "    </tr>\n",
       "    <tr>\n",
       "      <th>2</th>\n",
       "      <td>2</td>\n",
       "      <td>264.101422</td>\n",
       "      <td>Private room</td>\n",
       "      <td>False</td>\n",
       "      <td>True</td>\n",
       "      <td>2.0</td>\n",
       "      <td>False</td>\n",
       "      <td>0</td>\n",
       "      <td>1</td>\n",
       "      <td>9.0</td>\n",
       "      <td>...</td>\n",
       "      <td>5.748312</td>\n",
       "      <td>3.651621</td>\n",
       "      <td>75.275877</td>\n",
       "      <td>3.985908</td>\n",
       "      <td>95.386955</td>\n",
       "      <td>6.646700</td>\n",
       "      <td>4.97512</td>\n",
       "      <td>52.36103</td>\n",
       "      <td>week_day</td>\n",
       "      <td>amsterdam</td>\n",
       "    </tr>\n",
       "    <tr>\n",
       "      <th>3</th>\n",
       "      <td>3</td>\n",
       "      <td>433.529398</td>\n",
       "      <td>Private room</td>\n",
       "      <td>False</td>\n",
       "      <td>True</td>\n",
       "      <td>4.0</td>\n",
       "      <td>False</td>\n",
       "      <td>0</td>\n",
       "      <td>1</td>\n",
       "      <td>9.0</td>\n",
       "      <td>...</td>\n",
       "      <td>0.384862</td>\n",
       "      <td>0.439876</td>\n",
       "      <td>493.272534</td>\n",
       "      <td>26.119108</td>\n",
       "      <td>875.033098</td>\n",
       "      <td>60.973565</td>\n",
       "      <td>4.89417</td>\n",
       "      <td>52.37663</td>\n",
       "      <td>week_day</td>\n",
       "      <td>amsterdam</td>\n",
       "    </tr>\n",
       "    <tr>\n",
       "      <th>4</th>\n",
       "      <td>4</td>\n",
       "      <td>485.552926</td>\n",
       "      <td>Private room</td>\n",
       "      <td>False</td>\n",
       "      <td>True</td>\n",
       "      <td>2.0</td>\n",
       "      <td>True</td>\n",
       "      <td>0</td>\n",
       "      <td>0</td>\n",
       "      <td>10.0</td>\n",
       "      <td>...</td>\n",
       "      <td>0.544738</td>\n",
       "      <td>0.318693</td>\n",
       "      <td>552.830324</td>\n",
       "      <td>29.272733</td>\n",
       "      <td>815.305740</td>\n",
       "      <td>56.811677</td>\n",
       "      <td>4.90051</td>\n",
       "      <td>52.37508</td>\n",
       "      <td>week_day</td>\n",
       "      <td>amsterdam</td>\n",
       "    </tr>\n",
       "    <tr>\n",
       "      <th>...</th>\n",
       "      <td>...</td>\n",
       "      <td>...</td>\n",
       "      <td>...</td>\n",
       "      <td>...</td>\n",
       "      <td>...</td>\n",
       "      <td>...</td>\n",
       "      <td>...</td>\n",
       "      <td>...</td>\n",
       "      <td>...</td>\n",
       "      <td>...</td>\n",
       "      <td>...</td>\n",
       "      <td>...</td>\n",
       "      <td>...</td>\n",
       "      <td>...</td>\n",
       "      <td>...</td>\n",
       "      <td>...</td>\n",
       "      <td>...</td>\n",
       "      <td>...</td>\n",
       "      <td>...</td>\n",
       "      <td>...</td>\n",
       "      <td>...</td>\n",
       "    </tr>\n",
       "    <tr>\n",
       "      <th>3532</th>\n",
       "      <td>1794</td>\n",
       "      <td>715.938574</td>\n",
       "      <td>Entire home/apt</td>\n",
       "      <td>False</td>\n",
       "      <td>False</td>\n",
       "      <td>6.0</td>\n",
       "      <td>False</td>\n",
       "      <td>0</td>\n",
       "      <td>1</td>\n",
       "      <td>10.0</td>\n",
       "      <td>...</td>\n",
       "      <td>0.530181</td>\n",
       "      <td>0.135447</td>\n",
       "      <td>219.402478</td>\n",
       "      <td>15.712158</td>\n",
       "      <td>438.756874</td>\n",
       "      <td>10.604584</td>\n",
       "      <td>16.37940</td>\n",
       "      <td>48.21136</td>\n",
       "      <td>week_end</td>\n",
       "      <td>vienna</td>\n",
       "    </tr>\n",
       "    <tr>\n",
       "      <th>3533</th>\n",
       "      <td>1795</td>\n",
       "      <td>304.793960</td>\n",
       "      <td>Entire home/apt</td>\n",
       "      <td>False</td>\n",
       "      <td>False</td>\n",
       "      <td>2.0</td>\n",
       "      <td>False</td>\n",
       "      <td>0</td>\n",
       "      <td>0</td>\n",
       "      <td>8.0</td>\n",
       "      <td>...</td>\n",
       "      <td>0.810205</td>\n",
       "      <td>0.100839</td>\n",
       "      <td>204.970121</td>\n",
       "      <td>14.678608</td>\n",
       "      <td>342.182813</td>\n",
       "      <td>8.270427</td>\n",
       "      <td>16.38070</td>\n",
       "      <td>48.20296</td>\n",
       "      <td>week_end</td>\n",
       "      <td>vienna</td>\n",
       "    </tr>\n",
       "    <tr>\n",
       "      <th>3534</th>\n",
       "      <td>1796</td>\n",
       "      <td>637.168969</td>\n",
       "      <td>Entire home/apt</td>\n",
       "      <td>False</td>\n",
       "      <td>False</td>\n",
       "      <td>2.0</td>\n",
       "      <td>False</td>\n",
       "      <td>0</td>\n",
       "      <td>0</td>\n",
       "      <td>10.0</td>\n",
       "      <td>...</td>\n",
       "      <td>0.994051</td>\n",
       "      <td>0.202539</td>\n",
       "      <td>169.073402</td>\n",
       "      <td>12.107921</td>\n",
       "      <td>282.296424</td>\n",
       "      <td>6.822996</td>\n",
       "      <td>16.38568</td>\n",
       "      <td>48.20460</td>\n",
       "      <td>week_end</td>\n",
       "      <td>vienna</td>\n",
       "    </tr>\n",
       "    <tr>\n",
       "      <th>3535</th>\n",
       "      <td>1797</td>\n",
       "      <td>301.054157</td>\n",
       "      <td>Private room</td>\n",
       "      <td>False</td>\n",
       "      <td>True</td>\n",
       "      <td>2.0</td>\n",
       "      <td>False</td>\n",
       "      <td>0</td>\n",
       "      <td>0</td>\n",
       "      <td>10.0</td>\n",
       "      <td>...</td>\n",
       "      <td>3.044100</td>\n",
       "      <td>0.287435</td>\n",
       "      <td>109.236574</td>\n",
       "      <td>7.822803</td>\n",
       "      <td>158.563398</td>\n",
       "      <td>3.832416</td>\n",
       "      <td>16.34100</td>\n",
       "      <td>48.19200</td>\n",
       "      <td>week_end</td>\n",
       "      <td>vienna</td>\n",
       "    </tr>\n",
       "    <tr>\n",
       "      <th>3536</th>\n",
       "      <td>1798</td>\n",
       "      <td>133.230489</td>\n",
       "      <td>Private room</td>\n",
       "      <td>False</td>\n",
       "      <td>True</td>\n",
       "      <td>4.0</td>\n",
       "      <td>True</td>\n",
       "      <td>1</td>\n",
       "      <td>0</td>\n",
       "      <td>10.0</td>\n",
       "      <td>...</td>\n",
       "      <td>1.263932</td>\n",
       "      <td>0.480903</td>\n",
       "      <td>150.450381</td>\n",
       "      <td>10.774264</td>\n",
       "      <td>225.247293</td>\n",
       "      <td>5.444140</td>\n",
       "      <td>16.39066</td>\n",
       "      <td>48.20811</td>\n",
       "      <td>week_end</td>\n",
       "      <td>vienna</td>\n",
       "    </tr>\n",
       "  </tbody>\n",
       "</table>\n",
       "<p>51707 rows × 22 columns</p>\n",
       "</div>"
      ],
      "text/plain": [
       "      Unnamed: 0     realSum        room_type  room_shared  room_private  \\\n",
       "0              0  194.033698     Private room        False          True   \n",
       "1              1  344.245776     Private room        False          True   \n",
       "2              2  264.101422     Private room        False          True   \n",
       "3              3  433.529398     Private room        False          True   \n",
       "4              4  485.552926     Private room        False          True   \n",
       "...          ...         ...              ...          ...           ...   \n",
       "3532        1794  715.938574  Entire home/apt        False         False   \n",
       "3533        1795  304.793960  Entire home/apt        False         False   \n",
       "3534        1796  637.168969  Entire home/apt        False         False   \n",
       "3535        1797  301.054157     Private room        False          True   \n",
       "3536        1798  133.230489     Private room        False          True   \n",
       "\n",
       "      person_capacity  host_is_superhost  multi  biz  cleanliness_rating  ...  \\\n",
       "0                 2.0              False      1    0                10.0  ...   \n",
       "1                 4.0              False      0    0                 8.0  ...   \n",
       "2                 2.0              False      0    1                 9.0  ...   \n",
       "3                 4.0              False      0    1                 9.0  ...   \n",
       "4                 2.0               True      0    0                10.0  ...   \n",
       "...               ...                ...    ...  ...                 ...  ...   \n",
       "3532              6.0              False      0    1                10.0  ...   \n",
       "3533              2.0              False      0    0                 8.0  ...   \n",
       "3534              2.0              False      0    0                10.0  ...   \n",
       "3535              2.0              False      0    0                10.0  ...   \n",
       "3536              4.0               True      1    0                10.0  ...   \n",
       "\n",
       "          dist  metro_dist  attr_index  attr_index_norm  rest_index  \\\n",
       "0     5.022964    2.539380   78.690379         4.166708   98.253896   \n",
       "1     0.488389    0.239404  631.176378        33.421209  837.280757   \n",
       "2     5.748312    3.651621   75.275877         3.985908   95.386955   \n",
       "3     0.384862    0.439876  493.272534        26.119108  875.033098   \n",
       "4     0.544738    0.318693  552.830324        29.272733  815.305740   \n",
       "...        ...         ...         ...              ...         ...   \n",
       "3532  0.530181    0.135447  219.402478        15.712158  438.756874   \n",
       "3533  0.810205    0.100839  204.970121        14.678608  342.182813   \n",
       "3534  0.994051    0.202539  169.073402        12.107921  282.296424   \n",
       "3535  3.044100    0.287435  109.236574         7.822803  158.563398   \n",
       "3536  1.263932    0.480903  150.450381        10.774264  225.247293   \n",
       "\n",
       "      rest_index_norm       lng       lat       day    country  \n",
       "0            6.846473   4.90569  52.41772  week_day  amsterdam  \n",
       "1           58.342928   4.90005  52.37432  week_day  amsterdam  \n",
       "2            6.646700   4.97512  52.36103  week_day  amsterdam  \n",
       "3           60.973565   4.89417  52.37663  week_day  amsterdam  \n",
       "4           56.811677   4.90051  52.37508  week_day  amsterdam  \n",
       "...               ...       ...       ...       ...        ...  \n",
       "3532        10.604584  16.37940  48.21136  week_end     vienna  \n",
       "3533         8.270427  16.38070  48.20296  week_end     vienna  \n",
       "3534         6.822996  16.38568  48.20460  week_end     vienna  \n",
       "3535         3.832416  16.34100  48.19200  week_end     vienna  \n",
       "3536         5.444140  16.39066  48.20811  week_end     vienna  \n",
       "\n",
       "[51707 rows x 22 columns]"
      ]
     },
     "execution_count": 139,
     "metadata": {},
     "output_type": "execute_result"
    }
   ],
   "source": [
    "# concatenamos ahora por pais \n",
    "df = pd.concat([ams, ath, bar, ber, bud, lis, lon, par, rom, vie])\n",
    "df"
   ]
  },
  {
   "attachments": {},
   "cell_type": "markdown",
   "metadata": {},
   "source": [
    "## Exploracion de variables  \n",
    "\n",
    "A la hora de tener lista la concatenacion de datos, se prosigue a realizar un analisis profundo de las  variables  correspondientes."
   ]
  },
  {
   "cell_type": "code",
   "execution_count": 140,
   "metadata": {},
   "outputs": [
    {
     "data": {
      "text/html": [
       "<div>\n",
       "<style scoped>\n",
       "    .dataframe tbody tr th:only-of-type {\n",
       "        vertical-align: middle;\n",
       "    }\n",
       "\n",
       "    .dataframe tbody tr th {\n",
       "        vertical-align: top;\n",
       "    }\n",
       "\n",
       "    .dataframe thead th {\n",
       "        text-align: right;\n",
       "    }\n",
       "</style>\n",
       "<table border=\"1\" class=\"dataframe\">\n",
       "  <thead>\n",
       "    <tr style=\"text-align: right;\">\n",
       "      <th></th>\n",
       "      <th>Unnamed: 0</th>\n",
       "      <th>realSum</th>\n",
       "      <th>person_capacity</th>\n",
       "      <th>multi</th>\n",
       "      <th>biz</th>\n",
       "      <th>cleanliness_rating</th>\n",
       "      <th>guest_satisfaction_overall</th>\n",
       "      <th>bedrooms</th>\n",
       "      <th>dist</th>\n",
       "      <th>metro_dist</th>\n",
       "      <th>attr_index</th>\n",
       "      <th>attr_index_norm</th>\n",
       "      <th>rest_index</th>\n",
       "      <th>rest_index_norm</th>\n",
       "      <th>lng</th>\n",
       "      <th>lat</th>\n",
       "    </tr>\n",
       "  </thead>\n",
       "  <tbody>\n",
       "    <tr>\n",
       "      <th>count</th>\n",
       "      <td>51707.000000</td>\n",
       "      <td>51707.000000</td>\n",
       "      <td>51707.000000</td>\n",
       "      <td>51707.000000</td>\n",
       "      <td>51707.000000</td>\n",
       "      <td>51707.000000</td>\n",
       "      <td>51707.000000</td>\n",
       "      <td>51707.00000</td>\n",
       "      <td>51707.000000</td>\n",
       "      <td>51707.000000</td>\n",
       "      <td>51707.000000</td>\n",
       "      <td>51707.000000</td>\n",
       "      <td>51707.000000</td>\n",
       "      <td>51707.000000</td>\n",
       "      <td>51707.000000</td>\n",
       "      <td>51707.000000</td>\n",
       "    </tr>\n",
       "    <tr>\n",
       "      <th>mean</th>\n",
       "      <td>1620.502388</td>\n",
       "      <td>279.879591</td>\n",
       "      <td>3.161661</td>\n",
       "      <td>0.291353</td>\n",
       "      <td>0.350204</td>\n",
       "      <td>9.390624</td>\n",
       "      <td>92.628232</td>\n",
       "      <td>1.15876</td>\n",
       "      <td>3.191285</td>\n",
       "      <td>0.681540</td>\n",
       "      <td>294.204105</td>\n",
       "      <td>13.423792</td>\n",
       "      <td>626.856696</td>\n",
       "      <td>22.786177</td>\n",
       "      <td>7.426068</td>\n",
       "      <td>45.671128</td>\n",
       "    </tr>\n",
       "    <tr>\n",
       "      <th>std</th>\n",
       "      <td>1217.380366</td>\n",
       "      <td>327.948386</td>\n",
       "      <td>1.298545</td>\n",
       "      <td>0.454390</td>\n",
       "      <td>0.477038</td>\n",
       "      <td>0.954868</td>\n",
       "      <td>8.945531</td>\n",
       "      <td>0.62741</td>\n",
       "      <td>2.393803</td>\n",
       "      <td>0.858023</td>\n",
       "      <td>224.754123</td>\n",
       "      <td>9.807985</td>\n",
       "      <td>497.920226</td>\n",
       "      <td>17.804096</td>\n",
       "      <td>9.799725</td>\n",
       "      <td>5.249263</td>\n",
       "    </tr>\n",
       "    <tr>\n",
       "      <th>min</th>\n",
       "      <td>0.000000</td>\n",
       "      <td>34.779339</td>\n",
       "      <td>2.000000</td>\n",
       "      <td>0.000000</td>\n",
       "      <td>0.000000</td>\n",
       "      <td>2.000000</td>\n",
       "      <td>20.000000</td>\n",
       "      <td>0.00000</td>\n",
       "      <td>0.015045</td>\n",
       "      <td>0.002301</td>\n",
       "      <td>15.152201</td>\n",
       "      <td>0.926301</td>\n",
       "      <td>19.576924</td>\n",
       "      <td>0.592757</td>\n",
       "      <td>-9.226340</td>\n",
       "      <td>37.953000</td>\n",
       "    </tr>\n",
       "    <tr>\n",
       "      <th>25%</th>\n",
       "      <td>646.000000</td>\n",
       "      <td>148.752174</td>\n",
       "      <td>2.000000</td>\n",
       "      <td>0.000000</td>\n",
       "      <td>0.000000</td>\n",
       "      <td>9.000000</td>\n",
       "      <td>90.000000</td>\n",
       "      <td>1.00000</td>\n",
       "      <td>1.453142</td>\n",
       "      <td>0.248480</td>\n",
       "      <td>136.797385</td>\n",
       "      <td>6.380926</td>\n",
       "      <td>250.854114</td>\n",
       "      <td>8.751480</td>\n",
       "      <td>-0.072500</td>\n",
       "      <td>41.399510</td>\n",
       "    </tr>\n",
       "    <tr>\n",
       "      <th>50%</th>\n",
       "      <td>1334.000000</td>\n",
       "      <td>211.343089</td>\n",
       "      <td>3.000000</td>\n",
       "      <td>0.000000</td>\n",
       "      <td>0.000000</td>\n",
       "      <td>10.000000</td>\n",
       "      <td>95.000000</td>\n",
       "      <td>1.00000</td>\n",
       "      <td>2.613538</td>\n",
       "      <td>0.413269</td>\n",
       "      <td>234.331748</td>\n",
       "      <td>11.468305</td>\n",
       "      <td>522.052783</td>\n",
       "      <td>17.542238</td>\n",
       "      <td>4.873000</td>\n",
       "      <td>47.506690</td>\n",
       "    </tr>\n",
       "    <tr>\n",
       "      <th>75%</th>\n",
       "      <td>2382.000000</td>\n",
       "      <td>319.694287</td>\n",
       "      <td>4.000000</td>\n",
       "      <td>1.000000</td>\n",
       "      <td>1.000000</td>\n",
       "      <td>10.000000</td>\n",
       "      <td>99.000000</td>\n",
       "      <td>1.00000</td>\n",
       "      <td>4.263077</td>\n",
       "      <td>0.737840</td>\n",
       "      <td>385.756381</td>\n",
       "      <td>17.415082</td>\n",
       "      <td>832.628988</td>\n",
       "      <td>32.964603</td>\n",
       "      <td>13.518825</td>\n",
       "      <td>51.471885</td>\n",
       "    </tr>\n",
       "    <tr>\n",
       "      <th>max</th>\n",
       "      <td>5378.000000</td>\n",
       "      <td>18545.450285</td>\n",
       "      <td>6.000000</td>\n",
       "      <td>1.000000</td>\n",
       "      <td>1.000000</td>\n",
       "      <td>10.000000</td>\n",
       "      <td>100.000000</td>\n",
       "      <td>10.00000</td>\n",
       "      <td>25.284557</td>\n",
       "      <td>14.273577</td>\n",
       "      <td>4513.563486</td>\n",
       "      <td>100.000000</td>\n",
       "      <td>6696.156772</td>\n",
       "      <td>100.000000</td>\n",
       "      <td>23.786020</td>\n",
       "      <td>52.641410</td>\n",
       "    </tr>\n",
       "  </tbody>\n",
       "</table>\n",
       "</div>"
      ],
      "text/plain": [
       "         Unnamed: 0       realSum  person_capacity         multi  \\\n",
       "count  51707.000000  51707.000000     51707.000000  51707.000000   \n",
       "mean    1620.502388    279.879591         3.161661      0.291353   \n",
       "std     1217.380366    327.948386         1.298545      0.454390   \n",
       "min        0.000000     34.779339         2.000000      0.000000   \n",
       "25%      646.000000    148.752174         2.000000      0.000000   \n",
       "50%     1334.000000    211.343089         3.000000      0.000000   \n",
       "75%     2382.000000    319.694287         4.000000      1.000000   \n",
       "max     5378.000000  18545.450285         6.000000      1.000000   \n",
       "\n",
       "                biz  cleanliness_rating  guest_satisfaction_overall  \\\n",
       "count  51707.000000        51707.000000                51707.000000   \n",
       "mean       0.350204            9.390624                   92.628232   \n",
       "std        0.477038            0.954868                    8.945531   \n",
       "min        0.000000            2.000000                   20.000000   \n",
       "25%        0.000000            9.000000                   90.000000   \n",
       "50%        0.000000           10.000000                   95.000000   \n",
       "75%        1.000000           10.000000                   99.000000   \n",
       "max        1.000000           10.000000                  100.000000   \n",
       "\n",
       "          bedrooms          dist    metro_dist    attr_index  attr_index_norm  \\\n",
       "count  51707.00000  51707.000000  51707.000000  51707.000000     51707.000000   \n",
       "mean       1.15876      3.191285      0.681540    294.204105        13.423792   \n",
       "std        0.62741      2.393803      0.858023    224.754123         9.807985   \n",
       "min        0.00000      0.015045      0.002301     15.152201         0.926301   \n",
       "25%        1.00000      1.453142      0.248480    136.797385         6.380926   \n",
       "50%        1.00000      2.613538      0.413269    234.331748        11.468305   \n",
       "75%        1.00000      4.263077      0.737840    385.756381        17.415082   \n",
       "max       10.00000     25.284557     14.273577   4513.563486       100.000000   \n",
       "\n",
       "         rest_index  rest_index_norm           lng           lat  \n",
       "count  51707.000000     51707.000000  51707.000000  51707.000000  \n",
       "mean     626.856696        22.786177      7.426068     45.671128  \n",
       "std      497.920226        17.804096      9.799725      5.249263  \n",
       "min       19.576924         0.592757     -9.226340     37.953000  \n",
       "25%      250.854114         8.751480     -0.072500     41.399510  \n",
       "50%      522.052783        17.542238      4.873000     47.506690  \n",
       "75%      832.628988        32.964603     13.518825     51.471885  \n",
       "max     6696.156772       100.000000     23.786020     52.641410  "
      ]
     },
     "execution_count": 140,
     "metadata": {},
     "output_type": "execute_result"
    }
   ],
   "source": [
    "df.describe()"
   ]
  },
  {
   "attachments": {},
   "cell_type": "markdown",
   "metadata": {},
   "source": [
    "En total se tienen 51,707  valores en las columnas de los diez paises concatenados. Los Airbnb's toenmemn una capacidad por persona promedio de 3 personas, con un  cleanliness raing de 9 por airbnb, guest sastisfaction de 92.63% por cliente/persona, se tiene un promeedio de  una habbitacion por airbnb y etc.  \n",
    "\n",
    "realizamos un diagrama de boxplot con las variables numericas para poder tener una representacion grafica de nuestros dato e identificar la mediana, maximos, minimos, cuartiles, y outliers."
   ]
  },
  {
   "cell_type": "code",
   "execution_count": 141,
   "metadata": {},
   "outputs": [
    {
     "data": {
      "image/png": "[encoded data removed]",
      "text/plain": [
       "<Figure size 640x480 with 1 Axes>"
      ]
     },
     "metadata": {},
     "output_type": "display_data"
    },
    {
     "data": {
      "image/png": "[encoded data removed]",
      "text/plain": [
       "<Figure size 640x480 with 1 Axes>"
      ]
     },
     "metadata": {},
     "output_type": "display_data"
    },
    {
     "data": {
      "image/png": "[encoded data removed]",
      "text/plain": [
       "<Figure size 640x480 with 1 Axes>"
      ]
     },
     "metadata": {},
     "output_type": "display_data"
    },
    {
     "data": {
      "image/png": "[encoded data removed]",
      "text/plain": [
       "<Figure size 640x480 with 1 Axes>"
      ]
     },
     "metadata": {},
     "output_type": "display_data"
    },
    {
     "data": {
      "image/png": "[encoded data removed]",
      "text/plain": [
       "<Figure size 640x480 with 1 Axes>"
      ]
     },
     "metadata": {},
     "output_type": "display_data"
    },
    {
     "data": {
      "image/png": "[encoded data removed]",
      "text/plain": [
       "<Figure size 640x480 with 1 Axes>"
      ]
     },
     "metadata": {},
     "output_type": "display_data"
    },
    {
     "data": {
      "image/png": "[encoded data removed]",
      "text/plain": [
       "<Figure size 640x480 with 1 Axes>"
      ]
     },
     "metadata": {},
     "output_type": "display_data"
    },
    {
     "data": {
      "image/png": "[encoded data removed]",
      "text/plain": [
       "<Figure size 640x480 with 1 Axes>"
      ]
     },
     "metadata": {},
     "output_type": "display_data"
    },
    {
     "data": {
      "image/png": "[encoded data removed]",
      "text/plain": [
       "<Figure size 640x480 with 1 Axes>"
      ]
     },
     "metadata": {},
     "output_type": "display_data"
    },
    {
     "data": {
      "image/png": "[encoded data removed]",
      "text/plain": [
       "<Figure size 640x480 with 1 Axes>"
      ]
     },
     "metadata": {},
     "output_type": "display_data"
    },
    {
     "data": {
      "image/png": "[encoded data removed]",
      "text/plain": [
       "<Figure size 640x480 with 1 Axes>"
      ]
     },
     "metadata": {},
     "output_type": "display_data"
    },
    {
     "data": {
      "image/png": "[encoded data removed]",
      "text/plain": [
       "<Figure size 640x480 with 1 Axes>"
      ]
     },
     "metadata": {},
     "output_type": "display_data"
    },
    {
     "data": {
      "image/png": "[encoded data removed]",
      "text/plain": [
       "<Figure size 640x480 with 1 Axes>"
      ]
     },
     "metadata": {},
     "output_type": "display_data"
    },
    {
     "data": {
      "image/png": "[encoded data removed]",
      "text/plain": [
       "<Figure size 640x480 with 1 Axes>"
      ]
     },
     "metadata": {},
     "output_type": "display_data"
    },
    {
     "data": {
      "image/png": "[encoded data removed]",
      "text/plain": [
       "<Figure size 640x480 with 1 Axes>"
      ]
     },
     "metadata": {},
     "output_type": "display_data"
    },
    {
     "data": {
      "image/png": "[encoded data removed]",
      "text/plain": [
       "<Figure size 640x480 with 1 Axes>"
      ]
     },
     "metadata": {},
     "output_type": "display_data"
    }
   ],
   "source": [
    "# Seleccionar solo las columnas numéricas\n",
    "df_numeric = df.select_dtypes(include='number')\n",
    "\n",
    "# Graficar un histograma por columna\n",
    "for col in df_numeric.columns:\n",
    "    plt.boxplot(df_numeric[col])\n",
    "    plt.title(col)\n",
    "    plt.show()"
   ]
  },
  {
   "attachments": {},
   "cell_type": "markdown",
   "metadata": {},
   "source": [
    "para las columnas que tienen characteres las analisamos de la siguiente forma."
   ]
  },
  {
   "cell_type": "code",
   "execution_count": 142,
   "metadata": {},
   "outputs": [
    {
     "data": {
      "image/png": "[encoded data removed]",
      "text/plain": [
       "<Figure size 640x480 with 1 Axes>"
      ]
     },
     "metadata": {},
     "output_type": "display_data"
    },
    {
     "data": {
      "image/png": "[encoded data removed]",
      "text/plain": [
       "<Figure size 640x480 with 1 Axes>"
      ]
     },
     "metadata": {},
     "output_type": "display_data"
    },
    {
     "data": {
      "image/png": "[encoded data removed]",
      "text/plain": [
       "<Figure size 640x480 with 1 Axes>"
      ]
     },
     "metadata": {},
     "output_type": "display_data"
    }
   ],
   "source": [
    "# Seleccionar solo las columnas que contienen caracteres\n",
    "df_char = df.select_dtypes(include='object')\n",
    "\n",
    "# Graficar un gráfico de barras para cada columna\n",
    "for col in df_char.columns:\n",
    "    vc = df_char[col].value_counts()\n",
    "    plt.bar(vc.index, vc.values)\n",
    "    plt.title(col)\n",
    "    plt.show()"
   ]
  },
  {
   "attachments": {},
   "cell_type": "markdown",
   "metadata": {},
   "source": [
    "# Analitica\n",
    "\n",
    "Teniendo en cuenta las siguientes preguntas: \n",
    "\n",
    "1)  ¿Por qué Airbnb se ha convertido en una alternativa cada vez más popular a los hoteles tradicionales?\n",
    "2) ¿Qué ventajas ofrece Airbnb a los viajeros en comparación con los hoteles tradicionales?\n",
    "3) ¿Por qué los precios de los alquileres de Airbnb pueden variar significativamente según la ubicación y la temporada?\n",
    "4) ¿Cómo pueden los viajeros y los anfitriones beneficiarse de la comprensión de las tendencias de precios de los listados de Airbnb en las ciudades europeas?\n",
    "5) ¿Qué tipos de eventos, festivales y temporadas turísticas pueden afectar la demanda de alojamientos de Airbnb en las ciudades europeas? \n",
    "\n",
    "se  desarrollara una regresion lineal para comprender cual cuidad  es la mas rentable para poner un  airbnb en europa. Cuantas habitaciones tiene que tener, en que dia de la semana, cuidad, raiting de limieza y etc. \n",
    "\n",
    "en base a la regresion lineal se lograra responder las cinco preguntas para mejorar las decisiones del negocio\n"
   ]
  },
  {
   "cell_type": "code",
   "execution_count": 143,
   "metadata": {},
   "outputs": [],
   "source": [
    "from sklearn.linear_model import LinearRegression"
   ]
  },
  {
   "attachments": {},
   "cell_type": "markdown",
   "metadata": {},
   "source": [
    "como variable 'y' tomaremos en cuenta RealSum que es el precio por el cual se renta el airbnb. de esta forma poder predecir e indagar mas a profundida cuales son las repsuestas de nuestras interrogantes."
   ]
  },
  {
   "cell_type": "code",
   "execution_count": 144,
   "metadata": {},
   "outputs": [
    {
     "data": {
      "text/html": [
       "<div>\n",
       "<style scoped>\n",
       "    .dataframe tbody tr th:only-of-type {\n",
       "        vertical-align: middle;\n",
       "    }\n",
       "\n",
       "    .dataframe tbody tr th {\n",
       "        vertical-align: top;\n",
       "    }\n",
       "\n",
       "    .dataframe thead th {\n",
       "        text-align: right;\n",
       "    }\n",
       "</style>\n",
       "<table border=\"1\" class=\"dataframe\">\n",
       "  <thead>\n",
       "    <tr style=\"text-align: right;\">\n",
       "      <th></th>\n",
       "      <th>Unnamed: 0</th>\n",
       "      <th>realSum</th>\n",
       "      <th>room_type</th>\n",
       "      <th>room_shared</th>\n",
       "      <th>room_private</th>\n",
       "      <th>person_capacity</th>\n",
       "      <th>host_is_superhost</th>\n",
       "      <th>multi</th>\n",
       "      <th>biz</th>\n",
       "      <th>cleanliness_rating</th>\n",
       "      <th>...</th>\n",
       "      <th>amsterdam</th>\n",
       "      <th>athenas</th>\n",
       "      <th>barcelona</th>\n",
       "      <th>berlin</th>\n",
       "      <th>budapest</th>\n",
       "      <th>lisbon</th>\n",
       "      <th>london</th>\n",
       "      <th>paris</th>\n",
       "      <th>rome</th>\n",
       "      <th>vienna</th>\n",
       "    </tr>\n",
       "  </thead>\n",
       "  <tbody>\n",
       "    <tr>\n",
       "      <th>0</th>\n",
       "      <td>0</td>\n",
       "      <td>194.033698</td>\n",
       "      <td>Private room</td>\n",
       "      <td>False</td>\n",
       "      <td>True</td>\n",
       "      <td>2.0</td>\n",
       "      <td>False</td>\n",
       "      <td>1</td>\n",
       "      <td>0</td>\n",
       "      <td>10.0</td>\n",
       "      <td>...</td>\n",
       "      <td>1</td>\n",
       "      <td>0</td>\n",
       "      <td>0</td>\n",
       "      <td>0</td>\n",
       "      <td>0</td>\n",
       "      <td>0</td>\n",
       "      <td>0</td>\n",
       "      <td>0</td>\n",
       "      <td>0</td>\n",
       "      <td>0</td>\n",
       "    </tr>\n",
       "    <tr>\n",
       "      <th>1</th>\n",
       "      <td>1</td>\n",
       "      <td>344.245776</td>\n",
       "      <td>Private room</td>\n",
       "      <td>False</td>\n",
       "      <td>True</td>\n",
       "      <td>4.0</td>\n",
       "      <td>False</td>\n",
       "      <td>0</td>\n",
       "      <td>0</td>\n",
       "      <td>8.0</td>\n",
       "      <td>...</td>\n",
       "      <td>1</td>\n",
       "      <td>0</td>\n",
       "      <td>0</td>\n",
       "      <td>0</td>\n",
       "      <td>0</td>\n",
       "      <td>0</td>\n",
       "      <td>0</td>\n",
       "      <td>0</td>\n",
       "      <td>0</td>\n",
       "      <td>0</td>\n",
       "    </tr>\n",
       "    <tr>\n",
       "      <th>2</th>\n",
       "      <td>2</td>\n",
       "      <td>264.101422</td>\n",
       "      <td>Private room</td>\n",
       "      <td>False</td>\n",
       "      <td>True</td>\n",
       "      <td>2.0</td>\n",
       "      <td>False</td>\n",
       "      <td>0</td>\n",
       "      <td>1</td>\n",
       "      <td>9.0</td>\n",
       "      <td>...</td>\n",
       "      <td>1</td>\n",
       "      <td>0</td>\n",
       "      <td>0</td>\n",
       "      <td>0</td>\n",
       "      <td>0</td>\n",
       "      <td>0</td>\n",
       "      <td>0</td>\n",
       "      <td>0</td>\n",
       "      <td>0</td>\n",
       "      <td>0</td>\n",
       "    </tr>\n",
       "    <tr>\n",
       "      <th>3</th>\n",
       "      <td>3</td>\n",
       "      <td>433.529398</td>\n",
       "      <td>Private room</td>\n",
       "      <td>False</td>\n",
       "      <td>True</td>\n",
       "      <td>4.0</td>\n",
       "      <td>False</td>\n",
       "      <td>0</td>\n",
       "      <td>1</td>\n",
       "      <td>9.0</td>\n",
       "      <td>...</td>\n",
       "      <td>1</td>\n",
       "      <td>0</td>\n",
       "      <td>0</td>\n",
       "      <td>0</td>\n",
       "      <td>0</td>\n",
       "      <td>0</td>\n",
       "      <td>0</td>\n",
       "      <td>0</td>\n",
       "      <td>0</td>\n",
       "      <td>0</td>\n",
       "    </tr>\n",
       "    <tr>\n",
       "      <th>4</th>\n",
       "      <td>4</td>\n",
       "      <td>485.552926</td>\n",
       "      <td>Private room</td>\n",
       "      <td>False</td>\n",
       "      <td>True</td>\n",
       "      <td>2.0</td>\n",
       "      <td>True</td>\n",
       "      <td>0</td>\n",
       "      <td>0</td>\n",
       "      <td>10.0</td>\n",
       "      <td>...</td>\n",
       "      <td>1</td>\n",
       "      <td>0</td>\n",
       "      <td>0</td>\n",
       "      <td>0</td>\n",
       "      <td>0</td>\n",
       "      <td>0</td>\n",
       "      <td>0</td>\n",
       "      <td>0</td>\n",
       "      <td>0</td>\n",
       "      <td>0</td>\n",
       "    </tr>\n",
       "  </tbody>\n",
       "</table>\n",
       "<p>5 rows × 32 columns</p>\n",
       "</div>"
      ],
      "text/plain": [
       "   Unnamed: 0     realSum     room_type  room_shared  room_private  \\\n",
       "0           0  194.033698  Private room        False          True   \n",
       "1           1  344.245776  Private room        False          True   \n",
       "2           2  264.101422  Private room        False          True   \n",
       "3           3  433.529398  Private room        False          True   \n",
       "4           4  485.552926  Private room        False          True   \n",
       "\n",
       "   person_capacity  host_is_superhost  multi  biz  cleanliness_rating  ...  \\\n",
       "0              2.0              False      1    0                10.0  ...   \n",
       "1              4.0              False      0    0                 8.0  ...   \n",
       "2              2.0              False      0    1                 9.0  ...   \n",
       "3              4.0              False      0    1                 9.0  ...   \n",
       "4              2.0               True      0    0                10.0  ...   \n",
       "\n",
       "   amsterdam  athenas  barcelona  berlin  budapest  lisbon  london  paris  \\\n",
       "0          1        0          0       0         0       0       0      0   \n",
       "1          1        0          0       0         0       0       0      0   \n",
       "2          1        0          0       0         0       0       0      0   \n",
       "3          1        0          0       0         0       0       0      0   \n",
       "4          1        0          0       0         0       0       0      0   \n",
       "\n",
       "   rome  vienna  \n",
       "0     0       0  \n",
       "1     0       0  \n",
       "2     0       0  \n",
       "3     0       0  \n",
       "4     0       0  \n",
       "\n",
       "[5 rows x 32 columns]"
      ]
     },
     "execution_count": 144,
     "metadata": {},
     "output_type": "execute_result"
    }
   ],
   "source": [
    "mydummies = pd.get_dummies(df['country'])\n",
    "df2 = pd.concat([df, mydummies], axis = 1)\n",
    "df2.head()"
   ]
  },
  {
   "cell_type": "code",
   "execution_count": 101,
   "metadata": {},
   "outputs": [],
   "source": [
    "# seleccionamos los datos para nuestra regresion lineal \n",
    "x = df2[['amsterdam', 'athenas', 'barcelona', 'berlin', 'budapest', 'lisbon', 'london', 'paris', 'rome', 'vienna', 'cleanliness_rating', 'person_capacity', 'multi']]\n",
    "y = df2['realSum']"
   ]
  },
  {
   "cell_type": "code",
   "execution_count": 113,
   "metadata": {},
   "outputs": [
    {
     "name": "stdout",
     "output_type": "stream",
     "text": [
      "Los coeficientes de la regresion son los siguientes:\n",
      " [ 6.26807011e+14  6.26807011e+14  6.26807011e+14  6.26807011e+14\n",
      "  6.26807011e+14  6.26807011e+14  6.26807011e+14  6.26807011e+14\n",
      "  6.26807011e+14  6.26807011e+14  1.23750000e+01  7.07500000e+01\n",
      " -1.77929688e+01]\n",
      "El intercepto de la regresion: \n",
      " -626807010630144.2\n"
     ]
    }
   ],
   "source": [
    "model = LinearRegression()\n",
    "# Ajusta el modelo a los datos\n",
    "model.fit(x, y)\n",
    "\n",
    "# Ver los coeficientes de la regresión\n",
    "print(f'Los coeficientes de la regresion son los siguientes:\\n {model.coef_}')\n",
    "# Ver el intercepto de la regresión\n",
    "print(f'El intercepto de la regresion: \\n {model.intercept_}')"
   ]
  },
  {
   "attachments": {},
   "cell_type": "markdown",
   "metadata": {},
   "source": [
    "Podemos notar que el precio de los airbnbs en las cuidades es el mismo, es decir si aumenta un airbnb mas en x cuidad el precio pueda que incremente 6.26 dolares respectivamente, luego se puede obserbar que el clean_rating si aumenta en una unidad, el precio del airbnb puede aumentar su valor en 1.23 dolares, luego la variable person capacity es interesante porque a medida que aumenta la capacidad por persona en un airbnb el valor puede aumentar en 7.075 dolares. Luego con la variable multi, es decir que es multiuso, personas que viven en su casa y tiene un cuarto para airbnb, el valor/precio disminuye en 1.72 dolares. Pero teniendo en cuenta lo siguiente, me parece algo raro que el precio de los airbnbs no varie segun su ubicacion, por lo tanto realizaremos regresiones lineales segun la ubicacion, para diferenciar el precio. "
   ]
  },
  {
   "cell_type": "code",
   "execution_count": 145,
   "metadata": {},
   "outputs": [
    {
     "name": "stdout",
     "output_type": "stream",
     "text": [
      "Los coeficientes de la regresion son los siguientes:\n",
      " [ 3.32050672e+02 -1.51109566e+02  3.34753972e+01 -2.00551019e+01\n",
      "  2.08996217e+01 -2.52681258e+00 -1.03286422e-01  7.51405722e+01\n",
      "  5.73063863e+00 -3.84515249e+01]\n",
      "El intercepto de la regresion: \n",
      " 114.42188398445359\n"
     ]
    }
   ],
   "source": [
    "# seleccionamos los datos para nuestra regresion lineal \n",
    "x = df2[['amsterdam', 'room_shared', 'person_capacity', 'multi', 'biz', 'cleanliness_rating', 'guest_satisfaction_overall', 'bedrooms', 'dist', 'metro_dist']]\n",
    "y = df2['realSum']\n",
    "\n",
    "model = LinearRegression()\n",
    "# Ajusta el modelo a los datos\n",
    "model.fit(x, y)\n",
    "\n",
    "# Ver los coeficientes de la regresión\n",
    "print(f'Los coeficientes de la regresion son los siguientes:\\n {model.coef_}')\n",
    "# Ver el intercepto de la regresión\n",
    "print(f'El intercepto de la regresion: \\n {model.intercept_}')"
   ]
  },
  {
   "cell_type": "code",
   "execution_count": 127,
   "metadata": {},
   "outputs": [
    {
     "name": "stdout",
     "output_type": "stream",
     "text": [
      "Los coeficientes de la regresion son los siguientes:\n",
      " [-185.74566543 -157.44478924   32.93388048  -32.64898114    1.72035015\n",
      "   -1.8758826     0.46457917   83.78664888   -3.21902488  -23.71681224]\n",
      "El intercepto de la regresion: \n",
      " 108.67611951648985\n"
     ]
    }
   ],
   "source": [
    "# seleccionamos los datos para nuestra regresion lineal \n",
    "x = df2[['athenas', 'room_shared', 'person_capacity', 'multi', 'biz', 'cleanliness_rating', 'guest_satisfaction_overall', 'bedrooms', 'dist', 'metro_dist']]\n",
    "y = df2['realSum']\n",
    "\n",
    "model = LinearRegression()\n",
    "# Ajusta el modelo a los datos\n",
    "model.fit(x, y)\n",
    "\n",
    "# Ver los coeficientes de la regresión\n",
    "print(f'Los coeficientes de la regresion son los siguientes:\\n {model.coef_}')\n",
    "# Ver el intercepto de la regresión\n",
    "print(f'El intercepto de la regresion: \\n {model.intercept_}')"
   ]
  },
  {
   "cell_type": "code",
   "execution_count": 129,
   "metadata": {},
   "outputs": [
    {
     "name": "stdout",
     "output_type": "stream",
     "text": [
      "Los coeficientes de la regresion son los siguientes:\n",
      " [ 2.87798087e+01 -1.45119308e+02  2.83473253e+01 -3.12178800e+01\n",
      "  3.30327389e+00 -4.14558436e+00  1.34640871e-01  8.43269117e+01\n",
      "  1.78236615e+00 -2.58426567e+01]\n",
      "El intercepto de la regresion: \n",
      " 138.31213742667757\n"
     ]
    }
   ],
   "source": [
    "# seleccionamos los datos para nuestra regresion lineal \n",
    "x = df2[['barcelona', 'room_shared', 'person_capacity', 'multi', 'biz', 'cleanliness_rating', 'guest_satisfaction_overall', 'bedrooms', 'dist', 'metro_dist']]\n",
    "y = df2['realSum']\n",
    "\n",
    "model = LinearRegression()\n",
    "# Ajusta el modelo a los datos\n",
    "model.fit(x, y)\n",
    "\n",
    "# Ver los coeficientes de la regresión\n",
    "print(f'Los coeficientes de la regresion son los siguientes:\\n {model.coef_}')\n",
    "# Ver el intercepto de la regresión\n",
    "print(f'El intercepto de la regresion: \\n {model.intercept_}')"
   ]
  },
  {
   "cell_type": "code",
   "execution_count": 130,
   "metadata": {},
   "outputs": [
    {
     "name": "stdout",
     "output_type": "stream",
     "text": [
      "Los coeficientes de la regresion son los siguientes:\n",
      " [-1.40227980e+01 -1.42874927e+02  2.74170247e+01 -3.08353169e+01\n",
      "  2.87155513e+00 -4.16469538e+00  1.13707253e-01  8.53015068e+01\n",
      "  1.72826005e+00 -2.62434612e+01]\n",
      "El intercepto de la regresion: \n",
      " 144.96277866291365\n"
     ]
    }
   ],
   "source": [
    "# seleccionamos los datos para nuestra regresion lineal \n",
    "x = df2[['berlin', 'room_shared', 'person_capacity', 'multi', 'biz', 'cleanliness_rating', 'guest_satisfaction_overall', 'bedrooms', 'dist', 'metro_dist']]\n",
    "y = df2['realSum']\n",
    "\n",
    "model = LinearRegression()\n",
    "# Ajusta el modelo a los datos\n",
    "model.fit(x, y)\n",
    "\n",
    "# Ver los coeficientes de la regresión\n",
    "print(f'Los coeficientes de la regresion son los siguientes:\\n {model.coef_}')\n",
    "# Ver el intercepto de la regresión\n",
    "print(f'El intercepto de la regresion: \\n {model.intercept_}')"
   ]
  },
  {
   "cell_type": "code",
   "execution_count": 131,
   "metadata": {},
   "outputs": [
    {
     "name": "stdout",
     "output_type": "stream",
     "text": [
      "Los coeficientes de la regresion son los siguientes:\n",
      " [-125.84378927 -150.79585581   30.69365453  -30.31679362    1.56311248\n",
      "   -5.76446176    0.44742934   79.90549856   -1.13928502  -23.56672735]\n",
      "El intercepto de la regresion: \n",
      " 141.7716849735984\n"
     ]
    }
   ],
   "source": [
    "# seleccionamos los datos para nuestra regresion lineal \n",
    "x = df2[['budapest', 'room_shared', 'person_capacity', 'multi', 'biz', 'cleanliness_rating', 'guest_satisfaction_overall', 'bedrooms', 'dist', 'metro_dist']]\n",
    "y = df2['realSum']\n",
    "\n",
    "model = LinearRegression()\n",
    "# Ajusta el modelo a los datos\n",
    "model.fit(x, y)\n",
    "\n",
    "# Ver los coeficientes de la regresión\n",
    "print(f'Los coeficientes de la regresion son los siguientes:\\n {model.coef_}')\n",
    "# Ver el intercepto de la regresión\n",
    "print(f'El intercepto de la regresion: \\n {model.intercept_}')"
   ]
  },
  {
   "cell_type": "code",
   "execution_count": 132,
   "metadata": {},
   "outputs": [
    {
     "name": "stdout",
     "output_type": "stream",
     "text": [
      "Los coeficientes de la regresion son los siguientes:\n",
      " [-6.79025185e+01 -1.38705150e+02  2.68103807e+01 -2.86641274e+01\n",
      "  1.08025690e+01 -3.02200346e+00 -7.46000031e-02  8.82540937e+01\n",
      " -8.05756248e-01 -2.17840545e+01]\n",
      "El intercepto de la regresion: \n",
      " 158.6737701265169\n"
     ]
    }
   ],
   "source": [
    "# seleccionamos los datos para nuestra regresion lineal \n",
    "x = df2[['lisbon', 'room_shared', 'person_capacity', 'multi', 'biz', 'cleanliness_rating', 'guest_satisfaction_overall', 'bedrooms', 'dist', 'metro_dist']]\n",
    "y = df2['realSum']\n",
    "\n",
    "model = LinearRegression()\n",
    "# Ajusta el modelo a los datos\n",
    "model.fit(x, y)\n",
    "\n",
    "# Ver los coeficientes de la regresión\n",
    "print(f'Los coeficientes de la regresion son los siguientes:\\n {model.coef_}')\n",
    "# Ver el intercepto de la regresión\n",
    "print(f'El intercepto de la regresion: \\n {model.intercept_}')"
   ]
  },
  {
   "cell_type": "code",
   "execution_count": 133,
   "metadata": {},
   "outputs": [
    {
     "name": "stdout",
     "output_type": "stream",
     "text": [
      "Los coeficientes de la regresion son los siguientes:\n",
      " [ 155.57954423 -127.96235411   31.92791088  -33.89962524  -12.07905108\n",
      "   -0.70256024    0.40602687   81.20678396  -11.02394733  -20.33986572]\n",
      "El intercepto de la regresion: \n",
      " 87.81115107753723\n"
     ]
    }
   ],
   "source": [
    "# seleccionamos los datos para nuestra regresion lineal \n",
    "x = df2[['london', 'room_shared', 'person_capacity', 'multi', 'biz', 'cleanliness_rating', 'guest_satisfaction_overall', 'bedrooms', 'dist', 'metro_dist']]\n",
    "y = df2['realSum']\n",
    "\n",
    "model = LinearRegression()\n",
    "# Ajusta el modelo a los datos\n",
    "model.fit(x, y)\n",
    "\n",
    "# Ver los coeficientes de la regresión\n",
    "print(f'Los coeficientes de la regresion son los siguientes:\\n {model.coef_}')\n",
    "# Ver el intercepto de la regresión\n",
    "print(f'El intercepto de la regresion: \\n {model.intercept_}')"
   ]
  },
  {
   "cell_type": "code",
   "execution_count": 134,
   "metadata": {},
   "outputs": [
    {
     "name": "stdout",
     "output_type": "stream",
     "text": [
      "Los coeficientes de la regresion son los siguientes:\n",
      " [ 1.53020951e+02 -1.63739983e+02  2.69461566e+01 -1.58682265e+01\n",
      "  2.17252874e+01 -1.33420021e+00  1.13993826e-01  9.45151362e+01\n",
      " -4.76961126e-01 -1.03041575e+01]\n",
      "El intercepto de la regresion: \n",
      " 74.06097987481951\n"
     ]
    }
   ],
   "source": [
    "# seleccionamos los datos para nuestra regresion lineal \n",
    "x = df2[['paris', 'room_shared', 'person_capacity', 'multi', 'biz', 'cleanliness_rating', 'guest_satisfaction_overall', 'bedrooms', 'dist', 'metro_dist']]\n",
    "y = df2['realSum']\n",
    "\n",
    "model = LinearRegression()\n",
    "# Ajusta el modelo a los datos\n",
    "model.fit(x, y)\n",
    "\n",
    "# Ver los coeficientes de la regresión\n",
    "print(f'Los coeficientes de la regresion son los siguientes:\\n {model.coef_}')\n",
    "# Ver el intercepto de la regresión\n",
    "print(f'El intercepto de la regresion: \\n {model.intercept_}')"
   ]
  },
  {
   "cell_type": "code",
   "execution_count": 135,
   "metadata": {},
   "outputs": [
    {
     "name": "stdout",
     "output_type": "stream",
     "text": [
      "Los coeficientes de la regresion son los siguientes:\n",
      " [-9.94895611e+01 -1.58187885e+02  2.92119523e+01 -2.14462255e+01\n",
      "  5.73818347e+00 -1.03506760e+00 -5.23753830e-02  8.60809679e+01\n",
      "  2.83940375e-02 -2.04312538e+01]\n",
      "El intercepto de la regresion: \n",
      " 138.90706885426965\n"
     ]
    }
   ],
   "source": [
    "# seleccionamos los datos para nuestra regresion lineal \n",
    "x = df2[['rome', 'room_shared', 'person_capacity', 'multi', 'biz', 'cleanliness_rating', 'guest_satisfaction_overall', 'bedrooms', 'dist', 'metro_dist']]\n",
    "y = df2['realSum']\n",
    "\n",
    "model = LinearRegression()\n",
    "# Ajusta el modelo a los datos\n",
    "model.fit(x, y)\n",
    "\n",
    "# Ver los coeficientes de la regresión\n",
    "print(f'Los coeficientes de la regresion son los siguientes:\\n {model.coef_}')\n",
    "# Ver el intercepto de la regresión\n",
    "print(f'El intercepto de la regresion: \\n {model.intercept_}')"
   ]
  },
  {
   "cell_type": "code",
   "execution_count": 136,
   "metadata": {},
   "outputs": [
    {
     "name": "stdout",
     "output_type": "stream",
     "text": [
      "Los coeficientes de la regresion son los siguientes:\n",
      " [-4.66935517e+01 -1.46706271e+02  2.82386168e+01 -3.08003687e+01\n",
      "  2.93837776e+00 -4.13455925e+00  1.45961750e-01  8.40420366e+01\n",
      "  1.63396638e+00 -2.68309031e+01]\n",
      "El intercepto de la regresion: \n",
      " 143.76915413851623\n"
     ]
    }
   ],
   "source": [
    "# seleccionamos los datos para nuestra regresion lineal \n",
    "x = df2[['vienna', 'room_shared', 'person_capacity', 'multi', 'biz', 'cleanliness_rating', 'guest_satisfaction_overall', 'bedrooms', 'dist', 'metro_dist']]\n",
    "y = df2['realSum']\n",
    "\n",
    "model = LinearRegression()\n",
    "# Ajusta el modelo a los datos\n",
    "model.fit(x, y)\n",
    "\n",
    "# Ver los coeficientes de la regresión\n",
    "print(f'Los coeficientes de la regresion son los siguientes:\\n {model.coef_}')\n",
    "# Ver el intercepto de la regresión\n",
    "print(f'El intercepto de la regresion: \\n {model.intercept_}')"
   ]
  },
  {
   "attachments": {},
   "cell_type": "markdown",
   "metadata": {},
   "source": [
    "A la hora de realizar la regresion de esta manera podemos notar varias cosas importantes de las cuidades, como por ejemplo en la cuidad de amsterdam el precio del airbnb sube en 3 dolares si es en athenas baja 135 dolares, barcelona sube 2.88 dolares, beril baja 1.40 dlls, budapest baja 125 dlls, lisbbobn baja 6 dlls, london subbe 155 dlls, paris sube 1.5 dlls, roma baja 9 dlls y por ultimo vienaa baja 4 dlls. con este analisis podemos ver el precio relativo de las cuidades sus caracteristicas en el precio, que cuidad es  la mas rentable cuando hablamos en terminos de precio y etc."
   ]
  }
 ],
 "metadata": {
  "kernelspec": {
   "display_name": "Python 3",
   "language": "python",
   "name": "python3"
  },
  "language_info": {
   "codemirror_mode": {
    "name": "ipython",
    "version": 3
   },
   "file_extension": ".py",
   "mimetype": "text/x-python",
   "name": "python",
   "nbconvert_exporter": "python",
   "pygments_lexer": "ipython3",
   "version": "3.10.6"
  },
  "orig_nbformat": 4
 },
 "nbformat": 4,
 "nbformat_minor": 2
}
